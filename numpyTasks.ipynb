{
 "cells": [
  {
   "cell_type": "markdown",
   "metadata": {},
   "source": [
    "## Task 1: Calculate the mean and standard deviation of a NumPy array."
   ]
  },
  {
   "cell_type": "code",
   "execution_count": 13,
   "metadata": {},
   "outputs": [],
   "source": [
    "import numpy as np\n",
    "\n",
    "array = np.array([1, 2, 3, 4, 5])\n",
    "\n",
    "mean = np.mean(array)\n",
    "std_dev = np.std(array)"
   ]
  },
  {
   "cell_type": "code",
   "execution_count": 14,
   "metadata": {},
   "outputs": [
    {
     "name": "stdout",
     "output_type": "stream",
     "text": [
      "Mean: 3.0\n",
      "Standard Deviation: 1.4142135623730951\n"
     ]
    }
   ],
   "source": [
    "print(\"Mean:\", mean)\n",
    "print(\"Standard Deviation:\", std_dev)"
   ]
  },
  {
   "cell_type": "markdown",
   "metadata": {},
   "source": [
    "## Task 2: Generate a random matrix of size 5x5 and then find the minimum and maximum values along each row and column."
   ]
  },
  {
   "cell_type": "code",
   "execution_count": 15,
   "metadata": {},
   "outputs": [
    {
     "data": {
      "text/plain": [
       "array([[0.05467698, 0.44343843, 0.2878286 , 0.57144444, 0.76732338],\n",
       "       [0.96120649, 0.56994682, 0.29532579, 0.23530104, 0.69765726],\n",
       "       [0.59387141, 0.09139443, 0.82260919, 0.17742544, 0.01087252],\n",
       "       [0.03443214, 0.65371236, 0.13109473, 0.60833655, 0.54189867],\n",
       "       [0.1499806 , 0.65976443, 0.19905703, 0.59239207, 0.9931104 ]])"
      ]
     },
     "execution_count": 15,
     "metadata": {},
     "output_type": "execute_result"
    }
   ],
   "source": [
    "matrix = np.random.rand(5, 5) #generating matrix with random numbers\n",
    "min_row = np.min(matrix, axis=1)\n",
    "max_row = np.max(matrix, axis=1)\n",
    "min_col = np.min(matrix, axis=0)\n",
    "max_col = np.max(matrix, axis=0)\n",
    "matrix"
   ]
  },
  {
   "cell_type": "code",
   "execution_count": 16,
   "metadata": {},
   "outputs": [
    {
     "name": "stdout",
     "output_type": "stream",
     "text": [
      "Minimum values along rows: [0.05467698 0.23530104 0.01087252 0.03443214 0.1499806 ]\n",
      "Maximum values along rows: [0.76732338 0.96120649 0.82260919 0.65371236 0.9931104 ]\n",
      "Minimum values along columns: [0.03443214 0.09139443 0.13109473 0.17742544 0.01087252]\n",
      "Maximum values along columns: [0.96120649 0.65976443 0.82260919 0.60833655 0.9931104 ]\n"
     ]
    }
   ],
   "source": [
    "print(\"Minimum values along rows:\", min_row)\n",
    "print(\"Maximum values along rows:\", max_row)\n",
    "print(\"Minimum values along columns:\", min_col)\n",
    "print(\"Maximum values along columns:\", max_col)"
   ]
  },
  {
   "cell_type": "markdown",
   "metadata": {},
   "source": [
    "## Task 3: Implement the function to calculate the cosine similarity between two vectors using NumPy."
   ]
  },
  {
   "cell_type": "code",
   "execution_count": 17,
   "metadata": {},
   "outputs": [],
   "source": [
    "\n",
    "\n",
    "def cosine_similarity(vector1, vector2):\n",
    "    dot_product = np.dot(vector1, vector2)\n",
    "    norm_vector1 = np.linalg.norm(vector1)\n",
    "    norm_vector2 = np.linalg.norm(vector2)\n",
    "    similarity = dot_product / (norm_vector1 * norm_vector2)\n",
    "    return similarity"
   ]
  },
  {
   "cell_type": "code",
   "execution_count": 18,
   "metadata": {},
   "outputs": [
    {
     "name": "stdout",
     "output_type": "stream",
     "text": [
      "Cosine Similarity between vectors: 0.4363499270669106\n"
     ]
    }
   ],
   "source": [
    "vector1 = np.array([1,0,1,2,5])\n",
    "vector2 = np.array([4, 5, 6,1,2])\n",
    "\n",
    "similarity = cosine_similarity(vector1, vector2)\n",
    "print(\"Cosine Similarity between vectors:\", similarity)"
   ]
  }
 ],
 "metadata": {
  "kernelspec": {
   "display_name": "Python 3",
   "language": "python",
   "name": "python3"
  },
  "language_info": {
   "codemirror_mode": {
    "name": "ipython",
    "version": 3
   },
   "file_extension": ".py",
   "mimetype": "text/x-python",
   "name": "python",
   "nbconvert_exporter": "python",
   "pygments_lexer": "ipython3",
   "version": "3.12.0"
  }
 },
 "nbformat": 4,
 "nbformat_minor": 2
}
